{
  "cells": [
    {
      "metadata": {
        "_cell_guid": "b1076dfc-b9ad-4769-8c92-a6c4dae69d19",
        "collapsed": true,
        "_uuid": "8f2839f25d086af736a60e9eeb907d3b93b6e0e5"
      },
      "cell_type": "markdown",
      "source": "https://www.youtube.com/watch?v=N3oMKS1AfVI&index=1&list=PLX-LrBk6h3wR27xylD3Rsx4bbA15jlcYC\n\nhttps://www.kaggle.com/vominhcong05/fashion-mnist\n\nhttp://danialk.github.io/blog/2017/09/29/range-of-convolutional-neural-networks-on-fashion-mnist-dataset/\n\nhttps://www.youtube.com/watch?v=MQ5cGjMsUPc"
    },
    {
      "metadata": {
        "_cell_guid": "c8615313-69a8-40a6-9f62-eb281ec39ffd",
        "_uuid": "38d8140ac450a4533e4c726d3e74c89de1e10e10"
      },
      "cell_type": "markdown",
      "source": "# **Fashion MNIST Classification using CNN in Keras**"
    },
    {
      "metadata": {
        "_cell_guid": "ec895e46-9a90-4d34-aac7-cde6953689eb",
        "_uuid": "b99e61faf56b91ca9d208b2f4a7dc2e19dd7dd6f"
      },
      "cell_type": "markdown",
      "source": "> # Overview\n> Fashion-MNIST is a dataset of Zalando's article images—consisting of a training set of 60,000 examples and a test set of 10,000 examples. Each example is a 28x28 grayscale image, associated with a label from the following 10 classes: \n> \n> T-shirt/top(0),    Trouser(1),    Pullover(2),    Dress(3),    Coat(4),    Sandal(5),    Shirt(6),    Sneaker(7),    Bag(8),    Ankle boot(9).\n> \n> \n> Each pixel has a single pixel-value associated with it, indicating the lightness or darkness of that pixel, with higher numbers meaning darker. This pixel-value is an integer between 0 and 255. The training and test data sets have 785 columns. The first column consists of the class labels (see above), and represents the article of clothing. The rest of the columns contain the pixel-values of the associated image.\n> \n>Dataset: https://www.kaggle.com/zalando-research/fashionmnist"
    },
    {
      "metadata": {
        "trusted": true,
        "_uuid": "e9ae09e89913bfe80e552f16890bec0bfff60ada"
      },
      "cell_type": "code",
      "source": "import keras\nfrom keras.models import Sequential\nfrom keras.layers import Conv2D, MaxPooling2D, Dense, Flatten, Dropout\nfrom keras.optimizers import Adam\nfrom keras.callbacks import TensorBoard\n\nimport numpy as np\nimport pandas as pd\nimport matplotlib.pyplot as plt\nfrom sklearn.model_selection import train_test_split",
      "execution_count": 2,
      "outputs": []
    },
    {
      "metadata": {
        "trusted": true,
        "_uuid": "074e398dcf9972ab1f067ce959117ad88d308b61"
      },
      "cell_type": "code",
      "source": "train_df = pd.read_csv('../input/fashion-mnist_train.csv')\ntest_df = pd.read_csv('../input/fashion-mnist_test.csv')\n\ntrain_df.head()",
      "execution_count": 4,
      "outputs": [
        {
          "output_type": "execute_result",
          "execution_count": 4,
          "data": {
            "text/plain": "   label  pixel1  pixel2    ...     pixel782  pixel783  pixel784\n0      2       0       0    ...            0         0         0\n1      9       0       0    ...            0         0         0\n2      6       0       0    ...            0         0         0\n3      0       0       0    ...            0         0         0\n4      3       0       0    ...            0         0         0\n\n[5 rows x 785 columns]",
            "text/html": "<div>\n<style scoped>\n    .dataframe tbody tr th:only-of-type {\n        vertical-align: middle;\n    }\n\n    .dataframe tbody tr th {\n        vertical-align: top;\n    }\n\n    .dataframe thead th {\n        text-align: right;\n    }\n</style>\n<table border=\"1\" class=\"dataframe\">\n  <thead>\n    <tr style=\"text-align: right;\">\n      <th></th>\n      <th>label</th>\n      <th>pixel1</th>\n      <th>pixel2</th>\n      <th>pixel3</th>\n      <th>pixel4</th>\n      <th>pixel5</th>\n      <th>pixel6</th>\n      <th>pixel7</th>\n      <th>pixel8</th>\n      <th>pixel9</th>\n      <th>pixel10</th>\n      <th>pixel11</th>\n      <th>pixel12</th>\n      <th>pixel13</th>\n      <th>pixel14</th>\n      <th>pixel15</th>\n      <th>pixel16</th>\n      <th>pixel17</th>\n      <th>pixel18</th>\n      <th>pixel19</th>\n      <th>pixel20</th>\n      <th>pixel21</th>\n      <th>pixel22</th>\n      <th>pixel23</th>\n      <th>pixel24</th>\n      <th>pixel25</th>\n      <th>pixel26</th>\n      <th>pixel27</th>\n      <th>pixel28</th>\n      <th>pixel29</th>\n      <th>pixel30</th>\n      <th>pixel31</th>\n      <th>pixel32</th>\n      <th>pixel33</th>\n      <th>pixel34</th>\n      <th>pixel35</th>\n      <th>pixel36</th>\n      <th>pixel37</th>\n      <th>pixel38</th>\n      <th>pixel39</th>\n      <th>...</th>\n      <th>pixel745</th>\n      <th>pixel746</th>\n      <th>pixel747</th>\n      <th>pixel748</th>\n      <th>pixel749</th>\n      <th>pixel750</th>\n      <th>pixel751</th>\n      <th>pixel752</th>\n      <th>pixel753</th>\n      <th>pixel754</th>\n      <th>pixel755</th>\n      <th>pixel756</th>\n      <th>pixel757</th>\n      <th>pixel758</th>\n      <th>pixel759</th>\n      <th>pixel760</th>\n      <th>pixel761</th>\n      <th>pixel762</th>\n      <th>pixel763</th>\n      <th>pixel764</th>\n      <th>pixel765</th>\n      <th>pixel766</th>\n      <th>pixel767</th>\n      <th>pixel768</th>\n      <th>pixel769</th>\n      <th>pixel770</th>\n      <th>pixel771</th>\n      <th>pixel772</th>\n      <th>pixel773</th>\n      <th>pixel774</th>\n      <th>pixel775</th>\n      <th>pixel776</th>\n      <th>pixel777</th>\n      <th>pixel778</th>\n      <th>pixel779</th>\n      <th>pixel780</th>\n      <th>pixel781</th>\n      <th>pixel782</th>\n      <th>pixel783</th>\n      <th>pixel784</th>\n    </tr>\n  </thead>\n  <tbody>\n    <tr>\n      <th>0</th>\n      <td>2</td>\n      <td>0</td>\n      <td>0</td>\n      <td>0</td>\n      <td>0</td>\n      <td>0</td>\n      <td>0</td>\n      <td>0</td>\n      <td>0</td>\n      <td>0</td>\n      <td>0</td>\n      <td>0</td>\n      <td>0</td>\n      <td>0</td>\n      <td>0</td>\n      <td>0</td>\n      <td>0</td>\n      <td>0</td>\n      <td>0</td>\n      <td>0</td>\n      <td>0</td>\n      <td>0</td>\n      <td>0</td>\n      <td>0</td>\n      <td>0</td>\n      <td>0</td>\n      <td>0</td>\n      <td>0</td>\n      <td>0</td>\n      <td>0</td>\n      <td>0</td>\n      <td>0</td>\n      <td>0</td>\n      <td>0</td>\n      <td>0</td>\n      <td>0</td>\n      <td>0</td>\n      <td>0</td>\n      <td>0</td>\n      <td>0</td>\n      <td>...</td>\n      <td>0</td>\n      <td>0</td>\n      <td>0</td>\n      <td>0</td>\n      <td>0</td>\n      <td>0</td>\n      <td>0</td>\n      <td>0</td>\n      <td>0</td>\n      <td>0</td>\n      <td>0</td>\n      <td>0</td>\n      <td>0</td>\n      <td>0</td>\n      <td>0</td>\n      <td>0</td>\n      <td>0</td>\n      <td>0</td>\n      <td>0</td>\n      <td>0</td>\n      <td>0</td>\n      <td>0</td>\n      <td>0</td>\n      <td>0</td>\n      <td>0</td>\n      <td>0</td>\n      <td>0</td>\n      <td>0</td>\n      <td>0</td>\n      <td>0</td>\n      <td>0</td>\n      <td>0</td>\n      <td>0</td>\n      <td>0</td>\n      <td>0</td>\n      <td>0</td>\n      <td>0</td>\n      <td>0</td>\n      <td>0</td>\n      <td>0</td>\n    </tr>\n    <tr>\n      <th>1</th>\n      <td>9</td>\n      <td>0</td>\n      <td>0</td>\n      <td>0</td>\n      <td>0</td>\n      <td>0</td>\n      <td>0</td>\n      <td>0</td>\n      <td>0</td>\n      <td>0</td>\n      <td>0</td>\n      <td>0</td>\n      <td>0</td>\n      <td>0</td>\n      <td>0</td>\n      <td>0</td>\n      <td>0</td>\n      <td>0</td>\n      <td>0</td>\n      <td>0</td>\n      <td>0</td>\n      <td>0</td>\n      <td>0</td>\n      <td>0</td>\n      <td>0</td>\n      <td>0</td>\n      <td>0</td>\n      <td>0</td>\n      <td>0</td>\n      <td>0</td>\n      <td>0</td>\n      <td>0</td>\n      <td>0</td>\n      <td>0</td>\n      <td>0</td>\n      <td>0</td>\n      <td>0</td>\n      <td>0</td>\n      <td>0</td>\n      <td>0</td>\n      <td>...</td>\n      <td>0</td>\n      <td>0</td>\n      <td>0</td>\n      <td>0</td>\n      <td>0</td>\n      <td>0</td>\n      <td>0</td>\n      <td>0</td>\n      <td>0</td>\n      <td>0</td>\n      <td>0</td>\n      <td>0</td>\n      <td>0</td>\n      <td>0</td>\n      <td>0</td>\n      <td>0</td>\n      <td>0</td>\n      <td>0</td>\n      <td>0</td>\n      <td>0</td>\n      <td>0</td>\n      <td>0</td>\n      <td>0</td>\n      <td>0</td>\n      <td>0</td>\n      <td>0</td>\n      <td>0</td>\n      <td>0</td>\n      <td>0</td>\n      <td>0</td>\n      <td>0</td>\n      <td>0</td>\n      <td>0</td>\n      <td>0</td>\n      <td>0</td>\n      <td>0</td>\n      <td>0</td>\n      <td>0</td>\n      <td>0</td>\n      <td>0</td>\n    </tr>\n    <tr>\n      <th>2</th>\n      <td>6</td>\n      <td>0</td>\n      <td>0</td>\n      <td>0</td>\n      <td>0</td>\n      <td>0</td>\n      <td>0</td>\n      <td>0</td>\n      <td>5</td>\n      <td>0</td>\n      <td>0</td>\n      <td>0</td>\n      <td>105</td>\n      <td>92</td>\n      <td>101</td>\n      <td>107</td>\n      <td>100</td>\n      <td>132</td>\n      <td>0</td>\n      <td>0</td>\n      <td>2</td>\n      <td>4</td>\n      <td>0</td>\n      <td>1</td>\n      <td>0</td>\n      <td>0</td>\n      <td>0</td>\n      <td>0</td>\n      <td>0</td>\n      <td>0</td>\n      <td>0</td>\n      <td>0</td>\n      <td>0</td>\n      <td>0</td>\n      <td>0</td>\n      <td>0</td>\n      <td>0</td>\n      <td>0</td>\n      <td>0</td>\n      <td>150</td>\n      <td>...</td>\n      <td>211</td>\n      <td>220</td>\n      <td>214</td>\n      <td>74</td>\n      <td>0</td>\n      <td>255</td>\n      <td>222</td>\n      <td>128</td>\n      <td>0</td>\n      <td>0</td>\n      <td>0</td>\n      <td>0</td>\n      <td>0</td>\n      <td>0</td>\n      <td>0</td>\n      <td>0</td>\n      <td>0</td>\n      <td>44</td>\n      <td>12</td>\n      <td>0</td>\n      <td>0</td>\n      <td>40</td>\n      <td>134</td>\n      <td>162</td>\n      <td>191</td>\n      <td>214</td>\n      <td>163</td>\n      <td>146</td>\n      <td>165</td>\n      <td>79</td>\n      <td>0</td>\n      <td>0</td>\n      <td>0</td>\n      <td>30</td>\n      <td>43</td>\n      <td>0</td>\n      <td>0</td>\n      <td>0</td>\n      <td>0</td>\n      <td>0</td>\n    </tr>\n    <tr>\n      <th>3</th>\n      <td>0</td>\n      <td>0</td>\n      <td>0</td>\n      <td>0</td>\n      <td>1</td>\n      <td>2</td>\n      <td>0</td>\n      <td>0</td>\n      <td>0</td>\n      <td>0</td>\n      <td>0</td>\n      <td>114</td>\n      <td>183</td>\n      <td>112</td>\n      <td>55</td>\n      <td>23</td>\n      <td>72</td>\n      <td>102</td>\n      <td>165</td>\n      <td>160</td>\n      <td>28</td>\n      <td>0</td>\n      <td>0</td>\n      <td>0</td>\n      <td>1</td>\n      <td>0</td>\n      <td>0</td>\n      <td>0</td>\n      <td>0</td>\n      <td>0</td>\n      <td>0</td>\n      <td>0</td>\n      <td>0</td>\n      <td>1</td>\n      <td>0</td>\n      <td>0</td>\n      <td>24</td>\n      <td>188</td>\n      <td>163</td>\n      <td>93</td>\n      <td>...</td>\n      <td>171</td>\n      <td>249</td>\n      <td>207</td>\n      <td>197</td>\n      <td>202</td>\n      <td>45</td>\n      <td>0</td>\n      <td>3</td>\n      <td>0</td>\n      <td>0</td>\n      <td>0</td>\n      <td>0</td>\n      <td>0</td>\n      <td>0</td>\n      <td>0</td>\n      <td>0</td>\n      <td>0</td>\n      <td>0</td>\n      <td>1</td>\n      <td>0</td>\n      <td>0</td>\n      <td>0</td>\n      <td>22</td>\n      <td>21</td>\n      <td>25</td>\n      <td>69</td>\n      <td>52</td>\n      <td>45</td>\n      <td>74</td>\n      <td>39</td>\n      <td>3</td>\n      <td>0</td>\n      <td>0</td>\n      <td>0</td>\n      <td>0</td>\n      <td>1</td>\n      <td>0</td>\n      <td>0</td>\n      <td>0</td>\n      <td>0</td>\n    </tr>\n    <tr>\n      <th>4</th>\n      <td>3</td>\n      <td>0</td>\n      <td>0</td>\n      <td>0</td>\n      <td>0</td>\n      <td>0</td>\n      <td>0</td>\n      <td>0</td>\n      <td>0</td>\n      <td>0</td>\n      <td>0</td>\n      <td>0</td>\n      <td>0</td>\n      <td>46</td>\n      <td>0</td>\n      <td>21</td>\n      <td>68</td>\n      <td>0</td>\n      <td>0</td>\n      <td>0</td>\n      <td>0</td>\n      <td>0</td>\n      <td>0</td>\n      <td>0</td>\n      <td>0</td>\n      <td>0</td>\n      <td>0</td>\n      <td>0</td>\n      <td>0</td>\n      <td>0</td>\n      <td>0</td>\n      <td>0</td>\n      <td>0</td>\n      <td>0</td>\n      <td>0</td>\n      <td>0</td>\n      <td>0</td>\n      <td>25</td>\n      <td>187</td>\n      <td>189</td>\n      <td>...</td>\n      <td>230</td>\n      <td>237</td>\n      <td>229</td>\n      <td>0</td>\n      <td>0</td>\n      <td>1</td>\n      <td>0</td>\n      <td>0</td>\n      <td>0</td>\n      <td>0</td>\n      <td>0</td>\n      <td>0</td>\n      <td>0</td>\n      <td>0</td>\n      <td>0</td>\n      <td>0</td>\n      <td>0</td>\n      <td>0</td>\n      <td>0</td>\n      <td>0</td>\n      <td>0</td>\n      <td>68</td>\n      <td>116</td>\n      <td>112</td>\n      <td>136</td>\n      <td>147</td>\n      <td>144</td>\n      <td>121</td>\n      <td>102</td>\n      <td>63</td>\n      <td>0</td>\n      <td>0</td>\n      <td>0</td>\n      <td>0</td>\n      <td>0</td>\n      <td>0</td>\n      <td>0</td>\n      <td>0</td>\n      <td>0</td>\n      <td>0</td>\n    </tr>\n  </tbody>\n</table>\n</div>"
          },
          "metadata": {}
        }
      ]
    },
    {
      "metadata": {
        "trusted": true,
        "_uuid": "11f42ee30540f0f7381533a70b8cd8aea87f4023"
      },
      "cell_type": "code",
      "source": "train_data = np.array(train_df, dtype='float32')\ntest_data = np.array(test_df, dtype='float32')\n\nx_train = train_data[:, 1:] / 255\ny_train = train_data[:, 0]\n\nx_test = test_data[:, 1:] / 255\ny_test = test_data[:, 0]",
      "execution_count": 5,
      "outputs": []
    },
    {
      "metadata": {
        "trusted": true,
        "_uuid": "f9eb3f0c49ecedb8872168d9fdc72fd3899062a2"
      },
      "cell_type": "code",
      "source": "\n# split the training data into train and validate arrays (will be used later)\n\nx_train, x_validate, y_train, y_validate = train_test_split(\n    x_train, y_train, test_size=0.2, random_state=12345,\n)",
      "execution_count": 6,
      "outputs": []
    },
    {
      "metadata": {
        "trusted": true,
        "_uuid": "3e9de462913244563a265b2882c380e69044a88f"
      },
      "cell_type": "code",
      "source": "# lets see what the images look like\n\nimage = x_train[50, :].reshape((28, 28))\n\nplt.imshow(image)\nplt.show()\n",
      "execution_count": 7,
      "outputs": [
        {
          "output_type": "display_data",
          "data": {
            "text/plain": "<Figure size 432x288 with 1 Axes>",
            "image/png": "[encoded data removed]"
          },
          "metadata": {
            "needs_background": "light"
          }
        }
      ]
    },
    {
      "metadata": {
        "trusted": true,
        "_uuid": "0bd8e53790359bdb79211f9259f6e2ac7802ef0d"
      },
      "cell_type": "code",
      "source": "\nim_rows = 28\nim_cols = 28\nbatch_size = 512\nim_shape = (im_rows, im_cols, 1)\n\nx_train = x_train.reshape(x_train.shape[0], *im_shape)\nx_test = x_test.reshape(x_test.shape[0], *im_shape)\nx_validate = x_validate.reshape(x_validate.shape[0], *im_shape)\n\nprint('x_train shape: {}'.format(x_train.shape))\nprint('x_test shape: {}'.format(x_test.shape))\nprint('x_validate shape: {}'.format(x_validate.shape))",
      "execution_count": 8,
      "outputs": [
        {
          "output_type": "stream",
          "text": "x_train shape: (48000, 28, 28, 1)\nx_test shape: (10000, 28, 28, 1)\nx_validate shape: (12000, 28, 28, 1)\n",
          "name": "stdout"
        }
      ]
    },
    {
      "metadata": {
        "trusted": true,
        "_uuid": "a270dfe1833c5d124c798b6c944218326257178d"
      },
      "cell_type": "code",
      "source": "cnn_model = Sequential([\n    Conv2D(filters=32, kernel_size=3, activation='relu', input_shape=im_shape),\n    MaxPooling2D(pool_size=2),\n    Dropout(0.2),\n    \n    Flatten(),\n    Dense(32, activation='relu'),\n    Dense(10, activation='softmax')\n])",
      "execution_count": 12,
      "outputs": []
    },
    {
      "metadata": {
        "trusted": true,
        "_uuid": "357aa9b551f39146b2971460886b950c2a17caf2"
      },
      "cell_type": "code",
      "source": "cnn_model.compile(\n    loss='sparse_categorical_crossentropy',\n    optimizer=Adam(lr=0.001),\n    metrics=['accuracy']\n)",
      "execution_count": 13,
      "outputs": []
    },
    {
      "metadata": {
        "trusted": true,
        "_uuid": "ab8ffbea1ab918ec3c1dd318a176baa0cf0f7095"
      },
      "cell_type": "code",
      "source": "cnn_model.fit(\n    x_train, y_train, batch_size=batch_size,\n    epochs=10, verbose=1,\n    validation_data=(x_validate, y_validate),\n)",
      "execution_count": null,
      "outputs": []
    },
    {
      "metadata": {
        "trusted": true,
        "_uuid": "3e76cb1c82c28bf3cdda90fe9c8689843c0df53b"
      },
      "cell_type": "code",
      "source": "",
      "execution_count": null,
      "outputs": []
    },
    {
      "metadata": {
        "trusted": true,
        "_uuid": "55d77ea878c86643e13d97b26234d948344738ba"
      },
      "cell_type": "code",
      "source": "",
      "execution_count": null,
      "outputs": []
    },
    {
      "metadata": {
        "trusted": true,
        "_uuid": "df37861660fcc5baa2d738de493d84a3befd0c51"
      },
      "cell_type": "code",
      "source": "",
      "execution_count": null,
      "outputs": []
    },
    {
      "metadata": {
        "trusted": true,
        "_uuid": "569ceb1cd6709a3a648f9373b1d34be9d9759247"
      },
      "cell_type": "code",
      "source": "",
      "execution_count": null,
      "outputs": []
    },
    {
      "metadata": {
        "trusted": true,
        "_uuid": "dee8efbbce8ae7fa43ac8b9d445291a74e95f190"
      },
      "cell_type": "code",
      "source": "",
      "execution_count": null,
      "outputs": []
    },
    {
      "metadata": {
        "trusted": true,
        "_uuid": "af147b86f0df52c33735a97b581d40e7d00486f0"
      },
      "cell_type": "code",
      "source": "",
      "execution_count": null,
      "outputs": []
    },
    {
      "metadata": {
        "trusted": true,
        "_uuid": "5541f7f4882a6fcd5ed30cd0587d92daaf005b95"
      },
      "cell_type": "code",
      "source": "",
      "execution_count": null,
      "outputs": []
    },
    {
      "metadata": {
        "trusted": true,
        "_uuid": "dfa152b0e8596bf29b217fa5aa47b67e0df7c091"
      },
      "cell_type": "code",
      "source": "",
      "execution_count": null,
      "outputs": []
    },
    {
      "metadata": {
        "trusted": true,
        "_uuid": "fdaec5c6a99f5393d847982231cb5b2089a6a7d3"
      },
      "cell_type": "code",
      "source": "",
      "execution_count": null,
      "outputs": []
    },
    {
      "metadata": {
        "trusted": true,
        "_uuid": "269243d2bcda2c27b7b6a0c77f098d9dc1d2c0c0"
      },
      "cell_type": "code",
      "source": "",
      "execution_count": null,
      "outputs": []
    },
    {
      "metadata": {
        "trusted": true,
        "_uuid": "94c35b6834cd2f6a2d0b9e038261a964c6afce22"
      },
      "cell_type": "code",
      "source": "",
      "execution_count": null,
      "outputs": []
    },
    {
      "metadata": {
        "trusted": true,
        "_uuid": "99eaa0aaa410ca0c81c4c883e800d25415b85b4a"
      },
      "cell_type": "code",
      "source": "",
      "execution_count": null,
      "outputs": []
    },
    {
      "metadata": {
        "trusted": true,
        "_uuid": "f1949a66a52ff3e8b290da4ccc656856d818f95d"
      },
      "cell_type": "code",
      "source": "",
      "execution_count": null,
      "outputs": []
    },
    {
      "metadata": {
        "trusted": true,
        "_uuid": "ef38c470005f416e497429eacb90442724abc265"
      },
      "cell_type": "code",
      "source": "",
      "execution_count": null,
      "outputs": []
    },
    {
      "metadata": {
        "trusted": true,
        "_uuid": "b751e175e3cb82857d2e9f345303f04e53803176"
      },
      "cell_type": "code",
      "source": "",
      "execution_count": null,
      "outputs": []
    },
    {
      "metadata": {
        "trusted": true,
        "_uuid": "1a5681cacffb8d26a75591afd14b0c72090fd225"
      },
      "cell_type": "code",
      "source": "",
      "execution_count": null,
      "outputs": []
    },
    {
      "metadata": {
        "trusted": true,
        "_uuid": "ec9ad58d9e108575c5b0bb047d53fa59a484a0b4"
      },
      "cell_type": "code",
      "source": "",
      "execution_count": null,
      "outputs": []
    },
    {
      "metadata": {
        "trusted": true,
        "_uuid": "b0d7e1ea4598a7af3b0f47863aafd973c06fcd5b"
      },
      "cell_type": "code",
      "source": "",
      "execution_count": null,
      "outputs": []
    },
    {
      "metadata": {
        "trusted": true,
        "_uuid": "6a446848e8e22249c228a55faa4b96245974fc7f"
      },
      "cell_type": "code",
      "source": "",
      "execution_count": null,
      "outputs": []
    },
    {
      "metadata": {
        "trusted": true,
        "_uuid": "db31c7b3fdb9092a3defa8390fad9b0bcdf85832"
      },
      "cell_type": "code",
      "source": "",
      "execution_count": null,
      "outputs": []
    },
    {
      "metadata": {
        "trusted": true,
        "_uuid": "f52efaba3bce5fe95d3bb4280ad20a995577eece"
      },
      "cell_type": "code",
      "source": "",
      "execution_count": null,
      "outputs": []
    },
    {
      "metadata": {
        "_cell_guid": "40e22b9d-33e2-43a7-a3d1-d14cd7e6acd4",
        "_uuid": "08aecb12cd0077a918153878c339174b18e7eb2c",
        "trusted": true
      },
      "cell_type": "code",
      "source": "import pandas as pd\nimport numpy as np\nfrom sklearn.model_selection import train_test_split\nimport matplotlib.pyplot as plt\n%matplotlib inline\n\nimport keras\nfrom keras.models import Sequential\nfrom keras.layers import Dense, Dropout, Flatten\nfrom keras.layers import Conv2D, MaxPooling2D\nfrom keras.layers.normalization import BatchNormalization",
      "execution_count": null,
      "outputs": []
    },
    {
      "metadata": {
        "_cell_guid": "e7a3b583-1e57-44ba-bd69-395f3edfe38d",
        "_uuid": "3e584a236a6f267862bd1c954b44d45b03c2144e",
        "trusted": true
      },
      "cell_type": "code",
      "source": "train = pd.read_csv('../input/fashion-mnist_train.csv')\ntrain.head()",
      "execution_count": null,
      "outputs": []
    },
    {
      "metadata": {
        "_uuid": "63d6216c6ea26c533563f15831e4c8e24948ef5f",
        "trusted": true
      },
      "cell_type": "code",
      "source": "X = train.iloc[:, 1:].values\ny = train.iloc[:, 0:1].values",
      "execution_count": null,
      "outputs": []
    },
    {
      "metadata": {
        "_cell_guid": "2791c662-ff76-45bb-9f10-8d2fe431eb1c",
        "_uuid": "44771a6b3dc73525d436f9e516788a456d4201a8",
        "trusted": true
      },
      "cell_type": "code",
      "source": "\n\nX_train, X_val, y_train, y_val = train_test_split(X, y, test_size=0.2, random_state=0)\n\nX_train = X_train.reshape(X_train.shape[0], 28, 28, 1)\nX_val = X_val.reshape(X_val.shape[0], 28, 28, 1)\n\nX_train = X_train.astype('float32')\nX_val = X_val.astype('float32')\n\nX_train /= 255\nX_val /= 255",
      "execution_count": null,
      "outputs": []
    },
    {
      "metadata": {
        "_uuid": "cbabd7826e1fa359cd4788906c236035a0c89d30",
        "trusted": true
      },
      "cell_type": "code",
      "source": "sample = np.reshape(X_train[0, :], (28, 28))",
      "execution_count": null,
      "outputs": []
    },
    {
      "metadata": {
        "_uuid": "9770c265e96b6f8d00521f2ce7db98ef11772dc8",
        "trusted": false
      },
      "cell_type": "code",
      "source": "X_train = X_train/255.0\nX_train = X_train.reshape((-1, 28, 28, 1))\nY_train = to_categorical(y_train)\nX_train, X_val, Y_train, Y_val = train_test_split(X, y, random_state = 0, test_size=0.3)",
      "execution_count": null,
      "outputs": []
    },
    {
      "metadata": {
        "_uuid": "0b7749213ef1e781233e130e903749908ea3dc3c",
        "trusted": false
      },
      "cell_type": "code",
      "source": "print(X_train.shape)\nprint(X_val.shape)",
      "execution_count": null,
      "outputs": []
    },
    {
      "metadata": {
        "_cell_guid": "5e9a0ea4-6706-4e7a-ab1b-10dcb4c7cedc",
        "_uuid": "75c924aaac770b48b29c4cfd87ec524518e69a68",
        "trusted": false
      },
      "cell_type": "code",
      "source": "plt.figure(figsize=(5, 5))\nfor i in range(0, 9):\n    plt.subplot(3, 3, i+1)\n    img = np.reshape(X_train[i, :], (28, 28))\n    plt.imshow(img, 'gray')\n    title = 'label: ' + str(y_train[i])\n    plt.title(title, fontsize=10)",
      "execution_count": null,
      "outputs": []
    },
    {
      "metadata": {
        "collapsed": true,
        "_uuid": "42eb604420e2d793f97adf3b721ff1163ccd0c25",
        "trusted": false
      },
      "cell_type": "code",
      "source": "",
      "execution_count": null,
      "outputs": []
    },
    {
      "metadata": {
        "collapsed": true,
        "_uuid": "a5548cf9d071a0d6eafc3cdc9a91df5a70740ed4",
        "trusted": false
      },
      "cell_type": "code",
      "source": "",
      "execution_count": null,
      "outputs": []
    },
    {
      "metadata": {
        "collapsed": true,
        "_uuid": "7a6f3b19225052649ede6cc662aa771b0c753965",
        "trusted": false
      },
      "cell_type": "code",
      "source": "",
      "execution_count": null,
      "outputs": []
    },
    {
      "metadata": {
        "collapsed": true,
        "_uuid": "c5d697cabe3d86259fce937bdb257bea17a6c3cc",
        "trusted": false
      },
      "cell_type": "code",
      "source": "",
      "execution_count": null,
      "outputs": []
    },
    {
      "metadata": {
        "collapsed": true,
        "_uuid": "3ab0ec9602d502da8146ae24debea228a2605434",
        "trusted": false
      },
      "cell_type": "code",
      "source": "",
      "execution_count": null,
      "outputs": []
    },
    {
      "metadata": {
        "collapsed": true,
        "_uuid": "2b80349add52af2a5155b92dc10bbe9250251a26",
        "trusted": false
      },
      "cell_type": "code",
      "source": "",
      "execution_count": null,
      "outputs": []
    },
    {
      "metadata": {
        "collapsed": true,
        "_uuid": "387d638ed780e688f11a3641ecda45e112f78fe6",
        "trusted": false
      },
      "cell_type": "code",
      "source": "",
      "execution_count": null,
      "outputs": []
    },
    {
      "metadata": {
        "collapsed": true,
        "_uuid": "1495ad0a426fa2586f0245dba0d3167eaad16b0e",
        "trusted": false
      },
      "cell_type": "code",
      "source": "",
      "execution_count": null,
      "outputs": []
    },
    {
      "metadata": {
        "collapsed": true,
        "_uuid": "98284b17d278ae0c2f025b987636e6c76e40676b",
        "trusted": false
      },
      "cell_type": "code",
      "source": "",
      "execution_count": null,
      "outputs": []
    },
    {
      "metadata": {
        "collapsed": true,
        "_uuid": "f38dc3baef959d9e72e1655cc5221218845898e6",
        "trusted": false
      },
      "cell_type": "code",
      "source": "",
      "execution_count": null,
      "outputs": []
    },
    {
      "metadata": {
        "collapsed": true,
        "_uuid": "484ab6b953f0e5e2bfe429ef5b668ed1e2d5ee09",
        "trusted": false
      },
      "cell_type": "code",
      "source": "",
      "execution_count": null,
      "outputs": []
    },
    {
      "metadata": {
        "collapsed": true,
        "_uuid": "d069175bafcea1386a2b32106f2bb050e2adaac9",
        "trusted": false
      },
      "cell_type": "code",
      "source": "",
      "execution_count": null,
      "outputs": []
    },
    {
      "metadata": {
        "collapsed": true,
        "_uuid": "48aa16bedc2c014b4b931c97116d7694d9046b18",
        "trusted": false
      },
      "cell_type": "code",
      "source": "",
      "execution_count": null,
      "outputs": []
    },
    {
      "metadata": {
        "_cell_guid": "ab33cab4-24d9-491c-894e-ab5c640917fe",
        "collapsed": true,
        "_uuid": "416f66324f29e213ea752b7000c96477ee32561d",
        "trusted": false
      },
      "cell_type": "code",
      "source": "#classifier.summary()",
      "execution_count": null,
      "outputs": []
    },
    {
      "metadata": {
        "_cell_guid": "fa4bfb7d-0efe-48ef-aab5-efe67ab3942b",
        "collapsed": true,
        "_uuid": "3c051d97c2bb5f92be2ce1bf21b742d508162d13",
        "trusted": false
      },
      "cell_type": "code",
      "source": "\"\"\"history = classifier.fit(X_train, y_train,\n          batch_size=batch_size,\n          epochs=epochs,\n          verbose=1,\n          validation_data=(X_val, y_val))\nscore = classifier.evaluate(X_test, y_test, verbose=0)",
      "execution_count": null,
      "outputs": []
    },
    {
      "metadata": {
        "_cell_guid": "5f06b389-531a-4384-8b37-57108102efaa",
        "collapsed": true,
        "_uuid": "94e8af7370ae4f086ec7660b69635101e565b17f",
        "trusted": false
      },
      "cell_type": "code",
      "source": "\"\"\"print('Test loss:', score[0])\nprint('Test accuracy:', score[1])",
      "execution_count": null,
      "outputs": []
    },
    {
      "metadata": {
        "_cell_guid": "530c0be5-0b92-468d-bfb0-25920ab22724",
        "collapsed": true,
        "_uuid": "8ccb7266ea4d894dd96822552640df132b4c9cea",
        "trusted": false
      },
      "cell_type": "code",
      "source": "\"\"\"accuracy = history.history['acc']\nval_accuracy = history.history['val_acc']\nloss = history.history['loss']\nval_loss = history.history['val_loss']\nepochs = range(len(accuracy))\nplt.plot(epochs, accuracy, 'bo', label='Training accuracy')\nplt.plot(epochs, val_accuracy, 'b', label='Validation accuracy')\nplt.title('Training and validation accuracy')\nplt.legend()\nplt.figure()\nplt.plot(epochs, loss, 'bo', label='Training loss')\nplt.plot(epochs, val_loss, 'b', label='Validation loss')\nplt.title('Training and validation loss')\nplt.legend()\nplt.show()",
      "execution_count": null,
      "outputs": []
    },
    {
      "metadata": {
        "_cell_guid": "598b052e-b2a8-44b0-8ea9-1680607cfee5",
        "collapsed": true,
        "_uuid": "a4ee064f8982cd346373418ba72366d080f40fed",
        "trusted": false
      },
      "cell_type": "code",
      "source": "\"\"\"#get the predictions for the test data\npredicted_classes = classifier.predict_classes(X_test)\n\n#get the indices to be plotted\ny_true = data_test.iloc[:, 0]\ncorrect = np.nonzero(predicted_classes==y_true)[0]\nincorrect = np.nonzero(predicted_classes!=y_true)[0]",
      "execution_count": null,
      "outputs": []
    },
    {
      "metadata": {
        "_cell_guid": "27b29039-609c-494a-85ac-b2428648b599",
        "collapsed": true,
        "_uuid": "a97f0bbf0585c1dff05ceb223f997182ecdf3cea",
        "trusted": false
      },
      "cell_type": "code",
      "source": "\"\"\"from sklearn.metrics import classification_report\ntarget_names = [\"Class {}\".format(i) for i in range(num_classes)]\nprint(classification_report(y_true, predicted_classes, target_names=target_names))",
      "execution_count": null,
      "outputs": []
    },
    {
      "metadata": {
        "_cell_guid": "92353ef0-30c9-468a-af0e-e2a82aa169b7",
        "collapsed": true,
        "_uuid": "1f0501f28834d81b30a4d793f1ce767563efe24a",
        "trusted": false
      },
      "cell_type": "code",
      "source": "\"\"\"for i, correct in enumerate(correct[:9]):\n    plt.subplot(3,3,i+1)\n    plt.imshow(X_test[correct].reshape(28,28), cmap='gray', interpolation='none')\n    plt.title(\"Predicted {}, Class {}\".format(predicted_classes[correct], y_true[correct]))\n    plt.tight_layout()",
      "execution_count": null,
      "outputs": []
    },
    {
      "metadata": {
        "_cell_guid": "385e2191-f425-4c92-bcd8-8de9cd731191",
        "collapsed": true,
        "_uuid": "3c9bfc7470b7d826cee3b8a180185c0521f6ed2c",
        "trusted": false
      },
      "cell_type": "code",
      "source": "\"\"\"\"\"for i, incorrect in enumerate(incorrect[0:9]):\n    plt.subplot(3,3,i+1)\n    plt.imshow(X_test[incorrect].reshape(28,28), cmap='gray', interpolation='none')\n    plt.title(\"Predicted {}, Class {}\".format(predicted_classes[incorrect], y_true[incorrect]))\n    plt.tight_layout()",
      "execution_count": null,
      "outputs": []
    },
    {
      "metadata": {
        "_cell_guid": "0327a5ae-e318-4a66-b8ca-d5e78bfb173b",
        "collapsed": true,
        "_uuid": "2cbc42305824592298b25fc87b6f58f7b80f0b89",
        "trusted": false
      },
      "cell_type": "code",
      "source": "",
      "execution_count": null,
      "outputs": []
    }
  ],
  "metadata": {
    "kernelspec": {
      "display_name": "Python 3",
      "language": "python",
      "name": "python3"
    },
    "language_info": {
      "name": "python",
      "version": "3.6.6",
      "mimetype": "text/x-python",
      "codemirror_mode": {
        "name": "ipython",
        "version": 3
      },
      "pygments_lexer": "ipython3",
      "nbconvert_exporter": "python",
      "file_extension": ".py"
    }
  },
  "nbformat": 4,
  "nbformat_minor": 1
}